{
 "cells": [
  {
   "cell_type": "code",
   "execution_count": 1,
   "metadata": {},
   "outputs": [],
   "source": [
    "%matplotlib inline"
   ]
  },
  {
   "cell_type": "code",
   "execution_count": 2,
   "metadata": {},
   "outputs": [],
   "source": [
    "import hcipy as hci\n",
    "import numpy as np\n",
    "import matplotlib.pyplot as plt"
   ]
  },
  {
   "cell_type": "code",
   "execution_count": 3,
   "metadata": {},
   "outputs": [],
   "source": [
    "plt.rcParams['figure.figsize'] = (10, 6)\n",
    "plt.rcParams['image.origin'] = True"
   ]
  },
  {
   "cell_type": "markdown",
   "metadata": {},
   "source": [
    "## **Parameters**"
   ]
  },
  {
   "cell_type": "code",
   "execution_count": 4,
   "metadata": {},
   "outputs": [
    {
     "name": "stdout",
     "output_type": "stream",
     "text": [
      "Wavelength = 1e-06 m\n",
      "Aperture = 1.2 m\n",
      "Focal length = 21.600 m \n",
      "\n",
      "Fresnel number = 66666.667\n"
     ]
    }
   ],
   "source": [
    "wvlgth = 1e-6 #666e-9  \n",
    "\n",
    "diam_aperture = 1.2           \n",
    "focal_length = 18*diam_aperture \n",
    "\n",
    "diam_obs = 0.3/diam_aperture                                 # obscuration ratio\n",
    "nb_spid = 4                                                  # [m]\n",
    "spid_width = 0.05                                            # [m]\n",
    "\n",
    "print('Wavelength = {} m'.format(wvlgth))\n",
    "print('Aperture = {} m'.format(diam_aperture))\n",
    "print('Focal length = {x:.3f} m \\n'.format(x=focal_length))\n",
    "print('Fresnel number = {x:.3f}'.format(x=diam_aperture**2/(wvlgth*focal_length)))"
   ]
  },
  {
   "cell_type": "code",
   "execution_count": 5,
   "metadata": {},
   "outputs": [],
   "source": [
    "grid_size_pix = 1024\n",
    "grid_diam = 1.5*diam_aperture"
   ]
  },
  {
   "cell_type": "code",
   "execution_count": 6,
   "metadata": {},
   "outputs": [
    {
     "name": "stdout",
     "output_type": "stream",
     "text": [
      "On pupil plane, there is [0.00175953 0.00175953] m/pix\n",
      "This is not a real pixel ! This is for the computation's sake\n"
     ]
    }
   ],
   "source": [
    "pupil_grid = hci.make_pupil_grid(grid_size_pix, grid_diam)  #It's a computational grid, nothing physical\n",
    "print('On pupil plane, there is {} m/pix'.format(pupil_grid.delta))  #same as grid_diam/grid_size_pix\n",
    "print('This is not a real pixel ! This is for the computation\\'s sake')"
   ]
  },
  {
   "cell_type": "markdown",
   "metadata": {},
   "source": [
    "## **Aperture Auxtel (spiders + central obscuration)**"
   ]
  },
  {
   "cell_type": "code",
   "execution_count": 7,
   "metadata": {},
   "outputs": [],
   "source": [
    "central_obs = hci.aperture.make_obstructed_circular_aperture(diam_aperture, diam_obs)\n",
    "spider_1 = hci.aperture.make_spider([0,0], [0.6,0.6], spid_width)         # [m][m]\n",
    "spider_2 = hci.aperture.make_spider([0,0], [0.6,-0.6], spid_width)        # [m][m]\n",
    "spider_3 = hci.aperture.make_spider([0,0], [-0.6,0.6], spid_width)        # [m][m]\n",
    "spider_4 = hci.aperture.make_spider([0,0], [-0.6,-0.6], spid_width)       # [m][m]\n",
    "\n",
    "tel_pupil = central_obs(pupil_grid)*spider_1(pupil_grid)*spider_2(pupil_grid)*spider_3(pupil_grid)*spider_4(pupil_grid)"
   ]
  },
  {
   "cell_type": "code",
   "execution_count": 8,
   "metadata": {},
   "outputs": [
    {
     "data": {
      "text/plain": [
       "Text(0.5, 1.0, 'Aperture')"
      ]
     },
     "execution_count": 8,
     "metadata": {},
     "output_type": "execute_result"
    },
    {
     "name": "stderr",
     "output_type": "stream",
     "text": [
      "/home/novae/rey/anaconda3/lib/python3.7/site-packages/matplotlib/font_manager.py:1241: UserWarning: findfont: Font family ['sans-serif'] not found. Falling back to DejaVu Sans.\n",
      "  (prop.get_family(), self.defaultFamily[fontext]))\n"
     ]
    },
    {
     "data": {
      "image/png": "[encoded data removed]",
      "text/plain": [
       "<Figure size 720x432 with 1 Axes>"
      ]
     },
     "metadata": {},
     "output_type": "display_data"
    }
   ],
   "source": [
    "hci.imshow_field(tel_pupil, cmap='gray')\n",
    "plt.xlabel('x [m]')\n",
    "plt.ylabel('y [m]')\n",
    "plt.title('Aperture')"
   ]
  },
  {
   "cell_type": "code",
   "execution_count": 9,
   "metadata": {},
   "outputs": [],
   "source": [
    "wf = hci.Wavefront(tel_pupil, wvlgth)"
   ]
  },
  {
   "cell_type": "markdown",
   "metadata": {},
   "source": [
    "## **Zernike**"
   ]
  },
  {
   "cell_type": "code",
   "execution_count": 10,
   "metadata": {},
   "outputs": [
    {
     "name": "stdout",
     "output_type": "stream",
     "text": [
      "-121.20342027738401\n"
     ]
    }
   ],
   "source": [
    "shift = 0.05                                   # Longitudinal displacement [m]\n",
    "\n",
    "F_nb = focal_length/diam_aperture\n",
    "InPhase = 2*np.pi / wvlgth\n",
    "\n",
    "nwaves = - shift * InPhase / (8*F_nb**2)\n",
    "print(nwaves)"
   ]
  },
  {
   "cell_type": "code",
   "execution_count": 11,
   "metadata": {
    "scrolled": false
   },
   "outputs": [],
   "source": [
    "defocus = hci.zernike(2,0)(pupil_grid)  #evaluate zernike poly on the grid \n",
    "defocus /= np.ptp(defocus)               #divise par ptp value\n",
    "defocus *= nwaves                        # ~ replace old defocus ptp value\n",
    "\n",
    "wf2 = hci.Wavefront(tel_pupil * np.exp(1j * defocus), wvlgth)"
   ]
  },
  {
   "cell_type": "markdown",
   "metadata": {},
   "source": [
    "## **Sampling**"
   ]
  },
  {
   "cell_type": "markdown",
   "metadata": {},
   "source": [
    "To modelise the sampling, the `focal_grid` is used with `sampl_focal` (8 pixels per λ/D)\n",
    "\n",
    "---\n",
    "In POPPY, the equivalent is the `osys.add_detector` with a pixel size `pixsize` (0.1 micron)"
   ]
  },
  {
   "cell_type": "code",
   "execution_count": 15,
   "metadata": {},
   "outputs": [
    {
     "name": "stdout",
     "output_type": "stream",
     "text": [
      "Sampling at focal = 2 pixels per λ/D\n",
      "Field of view = 128 λ/D\n"
     ]
    }
   ],
   "source": [
    "sampl_focal = 32#8                             #échantillonage q (8 pix per λ/D) \n",
    "fov = 8                                     # [λ/D], radius\n",
    "\n",
    "focal_grid = hci.make_focal_grid(pupil_grid, sampl_focal, fov)\n",
    "\n",
    "print('Sampling at focal = {} pixels per λ/D'.format(sampl_focal))\n",
    "print('Field of view = {} λ/D'.format(fov))"
   ]
  },
  {
   "cell_type": "code",
   "execution_count": 16,
   "metadata": {},
   "outputs": [
    {
     "name": "stdout",
     "output_type": "stream",
     "text": [
      "The size of a pixel is 0.10416666666666667 micron\n"
     ]
    }
   ],
   "source": [
    "pixsize = (wvlgth/(diam_aperture))/(8*10**-6)\n",
    "print('The size of a pixel is {} micron'.format(pixsize))"
   ]
  },
  {
   "cell_type": "markdown",
   "metadata": {},
   "source": [
    "## **Propagation**"
   ]
  },
  {
   "cell_type": "code",
   "execution_count": 17,
   "metadata": {},
   "outputs": [],
   "source": [
    "prop = hci.FraunhoferPropagator(pupil_grid, focal_grid, wvlgth, 10000*focal_length) #10000*\n",
    "focal_image = prop.forward(wf)\n",
    "focal_image2 = prop.forward(wf2)              # Defocused !"
   ]
  },
  {
   "cell_type": "markdown",
   "metadata": {},
   "source": [
    "## **Plots**"
   ]
  },
  {
   "cell_type": "code",
   "execution_count": 18,
   "metadata": {},
   "outputs": [
    {
     "name": "stdout",
     "output_type": "stream",
     "text": [
      "1 λ/D = 22.001579333023614 arcsec\n"
     ]
    }
   ],
   "source": [
    "print('1 λ/D = {} arcsec'.format(fov*180*3600/np.pi*wvlgth/diam_aperture))"
   ]
  },
  {
   "cell_type": "markdown",
   "metadata": {},
   "source": [
    "## **PSF of aperture**"
   ]
  },
  {
   "cell_type": "code",
   "execution_count": 19,
   "metadata": {
    "scrolled": false
   },
   "outputs": [
    {
     "data": {
      "image/png": "[encoded data removed]",
      "text/plain": [
       "<Figure size 720x432 with 4 Axes>"
      ]
     },
     "metadata": {},
     "output_type": "display_data"
    }
   ],
   "source": [
    "plt.subplot(1, 2, 1)\n",
    "hci.imshow_field(np.log10(focal_image.intensity / focal_image.intensity.max()),cmap='gist_heat' , vmin=-2) #min -4, -3 = plus nice\n",
    "plt.colorbar(fraction=0.046, pad=0.04)\n",
    "plt.xlabel('x [λ/D]')\n",
    "plt.ylabel('y [λ/D]')\n",
    "plt.title('Without Zernicke')\n",
    "\n",
    "plt.subplot(1, 2, 2)\n",
    "hci.imshow_field(np.log10(focal_image2.intensity / focal_image2.intensity.max()),cmap='gist_heat' , vmin=-2) #min -4, -3 = plus nice\n",
    "plt.colorbar(fraction=0.046, pad=0.04)\n",
    "plt.xlabel('x [λ/D]')\n",
    "plt.ylabel('y [λ/D]')\n",
    "plt.title('With Zernicke')\n",
    "\n",
    "plt.tight_layout()\n",
    "plt.show()"
   ]
  },
  {
   "cell_type": "code",
   "execution_count": null,
   "metadata": {},
   "outputs": [],
   "source": [
    "print(\"conservation of the intensity ?\")\n",
    "print (\"Ratio = {}\".format(np.sum(focal_image.intensity)/np.sum(focal_image2.intensity)))"
   ]
  },
  {
   "cell_type": "markdown",
   "metadata": {},
   "source": [
    "## **PSF in 2D (slice or sum)**"
   ]
  },
  {
   "cell_type": "code",
   "execution_count": null,
   "metadata": {},
   "outputs": [],
   "source": [
    "print(np.sqrt(np.shape(focal_grid)))"
   ]
  },
  {
   "cell_type": "code",
   "execution_count": null,
   "metadata": {},
   "outputs": [],
   "source": [
    "int_map = focal_image.intensity.shaped                         # Take intensity and reshape (1D -> 2D)\n",
    "int_map2 = focal_image2.intensity.shaped      \n",
    "\n",
    "xaxis = focal_grid.x.reshape(int_map.shape)[0,:]\n",
    "xaxis2 = focal_grid.x.reshape(int_map2.shape)[0,:]\n",
    "\n",
    "psf_slice = int_map[:,int_map.shape[0]//2]     # Cut out the row at 512/2 and normalize\n",
    "psf_sum = int_map.sum(0)        \n",
    "\n",
    "psf_slice2 = int_map2[:,int_map2.shape[0]//2]     \n",
    "psf_sum2 = int_map2.sum(0)  "
   ]
  },
  {
   "cell_type": "code",
   "execution_count": null,
   "metadata": {},
   "outputs": [],
   "source": [
    "fig, ax1 = plt.subplots(nrows=1, ncols=1)\n",
    "\n",
    "ax1.plot(xaxis, psf_slice/psf_slice.max(), label='slice')\n",
    "ax1.plot(xaxis, psf_sum/psf_sum.max(), label='sum')\n",
    "ax1.set_xlabel('Focal plane distance [$\\lambda/D$]')\n",
    "ax1.set_ylabel('Normalised intensity [I]')\n",
    "ax1.set_ylim(bottom=10**-2)\n",
    "ax1.set_xlim(left=-1, right=1)\n",
    "ax1.set_title('Focused PSF')\n",
    "ax1.set_yscale('log')\n",
    "ax1.legend()\n",
    "\n",
    "plt.tight_layout()\n",
    "plt.show()"
   ]
  },
  {
   "cell_type": "markdown",
   "metadata": {},
   "source": [
    "#int_map = focal_image.intensity.shaped                         # Take intensity and reshape (1D -> 2D)\n",
    "#int_map2 = focal_image2.intensity.shaped      \n",
    "\n",
    "#xaxis = focal_grid.x.reshape(int_map.shape)[0,:]\n",
    "#xaxis2 = focal_grid.x.reshape(int_map2.shape)[0,:]\n",
    "\n",
    "#psf_slice = int_map[:,int_map.shape[0]//2] / int_map.max()     # Cut out the row at 512/2 and normalize\n",
    "#psf_sum = int_map.sum(0) / int_map.sum(0).max()                \n",
    "\n",
    "#psf_slice2 = int_map2[:,int_map2.shape[0]//2] / int_map2.max()    \n",
    "#psf_sum2 = int_map2.sum(0) / int_map2.sum(0).max()                \n",
    "\n",
    "\n",
    "fig, [ax1, ax2] = plt.subplots(nrows=1, ncols=2)\n",
    "\n",
    "ax1.plot(xaxis, psf_slice/psf_slice.max(), label='slice')\n",
    "ax1.plot(xaxis, psf_sum/psf_sum.max(), label='sum')\n",
    "ax1.set_xlabel('Focal plane distance [$\\lambda/D$]')\n",
    "ax1.set_ylabel('Normalised intensity [I]')\n",
    "ax1.set_ylim(bottom=10**-2)\n",
    "ax1.set_xlim(left=-1, right=1)\n",
    "ax1.set_title('Focused PSF')\n",
    "ax1.set_yscale('log')\n",
    "ax1.legend()\n",
    "\n",
    "ax2.plot(xaxis2, psf_slice2/psf_slice2.max(), label='slice')\n",
    "ax2.plot(xaxis2, psf_sum2/psf_sum2.max(), label='sum')\n",
    "ax2.set_xlabel('Focal plane distance [$\\lambda/D$]')\n",
    "ax2.set_ylabel('Normalised intensity [I]')\n",
    "ax2.set_ylim(bottom=10**-2)\n",
    "ax2.set_xlim(left=-1, right=1)\n",
    "ax2.set_title('Defocused PSF')\n",
    "ax2.set_yscale('log')\n",
    "ax2.legend()\n",
    "\n",
    "plt.tight_layout()\n",
    "plt.show()"
   ]
  },
  {
   "cell_type": "code",
   "execution_count": null,
   "metadata": {},
   "outputs": [],
   "source": [
    "fig, ax1 = plt.subplots(nrows=1, ncols=1)\n",
    "\n",
    "ax1.plot(focal_grid.x.reshape(int_map.shape)[0,:], psf_slice/psf_slice.max(), label='focused')\n",
    "ax1.plot(focal_grid.x.reshape(int_map2.shape)[0,:], psf_slice2/psf_slice.max(), label='defocused')\n",
    "ax1.set_ylim(bottom=10**-2)\n",
    "ax1.set_xlim(left=-0.5, right=0.5)\n",
    "ax1.set_xlabel('Focal plane distance [$\\lambda/D$]')\n",
    "ax1.set_ylabel('Normalised intensity [I]')\n",
    "ax1.set_title('Slice: focused VS defocused')\n",
    "\n",
    "ax1.set_yscale('log')\n",
    "ax1.legend()\n",
    "\n",
    "plt.tight_layout()\n",
    "plt.show()"
   ]
  },
  {
   "cell_type": "code",
   "execution_count": null,
   "metadata": {},
   "outputs": [],
   "source": []
  }
 ],
 "metadata": {
  "kernelspec": {
   "display_name": "Python 3",
   "language": "python",
   "name": "python3"
  },
  "language_info": {
   "codemirror_mode": {
    "name": "ipython",
    "version": 3
   },
   "file_extension": ".py",
   "mimetype": "text/x-python",
   "name": "python",
   "nbconvert_exporter": "python",
   "pygments_lexer": "ipython3",
   "version": "3.7.1"
  }
 },
 "nbformat": 4,
 "nbformat_minor": 2
}

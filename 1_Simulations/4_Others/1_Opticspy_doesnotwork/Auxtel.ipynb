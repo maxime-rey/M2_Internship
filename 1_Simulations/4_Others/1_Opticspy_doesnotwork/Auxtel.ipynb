{
 "cells": [
  {
   "cell_type": "markdown",
   "metadata": {},
   "source": [
    "# Begining of the simulation of Auxtel"
   ]
  },
  {
   "cell_type": "code",
   "execution_count": 1,
   "metadata": {},
   "outputs": [],
   "source": [
    "%matplotlib inline"
   ]
  },
  {
   "cell_type": "code",
   "execution_count": 2,
   "metadata": {},
   "outputs": [],
   "source": [
    "import opticspy.ray_tracing as rt\n",
    "import numpy as np\n",
    "import matplotlib.pyplot as plt"
   ]
  },
  {
   "cell_type": "code",
   "execution_count": 3,
   "metadata": {},
   "outputs": [],
   "source": [
    "plt.rcParams['figure.figsize'] = (10, 6)\n",
    "plt.rcParams['image.origin'] = True"
   ]
  },
  {
   "cell_type": "code",
   "execution_count": 4,
   "metadata": {},
   "outputs": [
    {
     "name": "stdout",
     "output_type": "stream",
     "text": [
      "Auxtel\n",
      "Max\n"
     ]
    }
   ],
   "source": [
    "New_Lens = rt.lens.Lens(lens_name='Auxtel',creator='Max')\n",
    "New_Lens.FNO = 5                                                 #What's FNO ??\n",
    "\n",
    "New_Lens.lens_info()"
   ]
  },
  {
   "cell_type": "code",
   "execution_count": 5,
   "metadata": {},
   "outputs": [
    {
     "name": "stdout",
     "output_type": "stream",
     "text": [
      "Add wavelength 400nm done\n",
      "Add wavelength 410nm done\n",
      "Add wavelength 420nm done\n",
      "Add wavelength 430nm done\n",
      "Add wavelength 440nm done\n",
      "Add wavelength 450nm done\n",
      "Add wavelength 460nm done\n",
      "Add wavelength 470nm done\n",
      "Add wavelength 480nm done\n",
      "Add wavelength 490nm done\n",
      "Add wavelength 500nm done\n",
      "\n",
      "List all wavelength information\n",
      "Wavelength 400 nm\n",
      "Wavelength 410 nm\n",
      "Wavelength 420 nm\n",
      "Wavelength 430 nm\n",
      "Wavelength 440 nm\n",
      "Wavelength 450 nm\n",
      "Wavelength 460 nm\n",
      "Wavelength 470 nm\n",
      "Wavelength 480 nm\n",
      "Wavelength 490 nm\n",
      "Wavelength 500 nm\n"
     ]
    }
   ],
   "source": [
    "for i in range (400,510,10):\n",
    "    New_Lens.add_wavelength(wl = i)\n",
    "\n",
    "print(\"\")\n",
    "New_Lens.list_wavelengths()"
   ]
  },
  {
   "cell_type": "code",
   "execution_count": 6,
   "metadata": {},
   "outputs": [
    {
     "name": "stdout",
     "output_type": "stream",
     "text": [
      "Add field angle:0 degree done\n"
     ]
    }
   ],
   "source": [
    "New_Lens.add_field_YAN(angle=0)"
   ]
  },
  {
   "cell_type": "code",
   "execution_count": 7,
   "metadata": {},
   "outputs": [
    {
     "name": "stdout",
     "output_type": "stream",
     "text": [
      "-----------------------Add surface:-------------------------------\n",
      "------------------------------------------------------------------\n",
      "| Num   |  Radius     |  Thickness   |  Glass           |  STO   |\n",
      "------------------------------------------------------------------\n",
      "| 1     |  Infinity   |  Infinity    |  air             |  False |\n",
      "------------------------------------------------------------------\n",
      "-----------------------Add surface:-------------------------------\n",
      "------------------------------------------------------------------\n",
      "| Num   |  Radius     |  Thickness   |  Glass           |  STO   |\n",
      "------------------------------------------------------------------\n",
      "| 2     |  Infinity   |  4.065       |  air             |  True  |\n",
      "------------------------------------------------------------------\n",
      "-----------------------Add surface:-------------------------------\n",
      "------------------------------------------------------------------\n",
      "| Num   |  Radius     |  Thickness   |  Glass           |  STO   |\n",
      "------------------------------------------------------------------\n",
      "| 3     |  41.1591    |  6.0976      |  S-BSM18_ohara   |  False |\n",
      "------------------------------------------------------------------\n",
      "-----------------------Add surface:-------------------------------\n",
      "------------------------------------------------------------------\n",
      "| Num   |  Radius     |  Thickness   |  Glass           |  STO   |\n",
      "------------------------------------------------------------------\n",
      "| 4     |  -957.8315  |  9.3496      |  air             |  False |\n",
      "------------------------------------------------------------------\n",
      "-----------------------Add surface:-------------------------------\n",
      "------------------------------------------------------------------\n",
      "| Num   |  Radius     |  Thickness   |  Glass           |  STO   |\n",
      "------------------------------------------------------------------\n",
      "| 5     |  Infinity   |  0           |  air             |  False |\n",
      "------------------------------------------------------------------\n"
     ]
    }
   ],
   "source": [
    "New_Lens.add_surface(number=1,radius=10000000,thickness=1000000,glass='air',output=True)\n",
    "New_Lens.add_surface(number=2,radius=10000000,thickness=4.065037,glass='air',STO=True,output=True)\n",
    "New_Lens.add_surface(number=3,radius=1.2/2,thickness=6.097555 ,glass='S-BSM18_ohara',output=True)\n",
    "New_Lens.add_surface(number=4,radius=--957.83146,thickness=9.349584,glass='air',output=True)\n",
    "New_Lens.add_surface(number=5,radius=10000000,thickness=0,glass='air',output=True)"
   ]
  },
  {
   "cell_type": "code",
   "execution_count": null,
   "metadata": {},
   "outputs": [],
   "source": []
  }
 ],
 "metadata": {
  "kernelspec": {
   "display_name": "Python 3",
   "language": "python",
   "name": "python3"
  },
  "language_info": {
   "codemirror_mode": {
    "name": "ipython",
    "version": 3
   },
   "file_extension": ".py",
   "mimetype": "text/x-python",
   "name": "python",
   "nbconvert_exporter": "python",
   "pygments_lexer": "ipython3",
   "version": "3.7.1"
  }
 },
 "nbformat": 4,
 "nbformat_minor": 2
}

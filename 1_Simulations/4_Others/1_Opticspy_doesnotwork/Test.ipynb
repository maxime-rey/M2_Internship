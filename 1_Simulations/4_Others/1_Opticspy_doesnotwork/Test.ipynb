{
 "cells": [
  {
   "cell_type": "markdown",
   "metadata": {},
   "source": [
    "# Error, conclusion = Opticspy is too buggy."
   ]
  },
  {
   "cell_type": "code",
   "execution_count": 1,
   "metadata": {},
   "outputs": [],
   "source": [
    "%matplotlib inline"
   ]
  },
  {
   "cell_type": "code",
   "execution_count": 31,
   "metadata": {},
   "outputs": [],
   "source": [
    "import opticspy.ray_tracing as rt\n",
    "import numpy as np\n",
    "import matplotlib.pyplot as plt"
   ]
  },
  {
   "cell_type": "code",
   "execution_count": 5,
   "metadata": {},
   "outputs": [],
   "source": [
    "plt.rcParams['figure.figsize'] = (10, 6)\n",
    "plt.rcParams['image.origin'] = True"
   ]
  },
  {
   "cell_type": "code",
   "execution_count": 38,
   "metadata": {
    "scrolled": true
   },
   "outputs": [
    {
     "name": "stdout",
     "output_type": "stream",
     "text": [
      "Triplet\n",
      "XF\n"
     ]
    },
    {
     "name": "stderr",
     "output_type": "stream",
     "text": [
      "UsageError: Line magic function `%%hide` not found.\n"
     ]
    }
   ],
   "source": [
    "New_Lens = rt.lens.Lens(lens_name='Triplet',creator='XF')\n",
    "New_Lens.FNO = 5                                                 #What's FNO ??\n",
    "\n",
    "New_Lens.lens_info()"
   ]
  },
  {
   "cell_type": "code",
   "execution_count": 46,
   "metadata": {},
   "outputs": [
    {
     "name": "stdout",
     "output_type": "stream",
     "text": [
      "Add wavelength 656.3nm done\n",
      "Add wavelength 587.6nm done\n",
      "Add wavelength 486.1nm done\n",
      "\n",
      "List all wavelength information\n",
      "Wavelength 486.1 nm\n",
      "Wavelength 486.1 nm\n",
      "Wavelength 486.1 nm\n",
      "Wavelength 486.1 nm\n",
      "Wavelength 486.1 nm\n",
      "Wavelength 486.1 nm\n",
      "Wavelength 486.1 nm\n",
      "Wavelength 486.1 nm\n",
      "Wavelength 587.6 nm\n",
      "Wavelength 587.6 nm\n",
      "Wavelength 587.6 nm\n",
      "Wavelength 587.6 nm\n",
      "Wavelength 587.6 nm\n",
      "Wavelength 587.6 nm\n",
      "Wavelength 587.6 nm\n",
      "Wavelength 587.6 nm\n",
      "Wavelength 656.3 nm\n",
      "Wavelength 656.3 nm\n",
      "Wavelength 656.3 nm\n",
      "Wavelength 656.3 nm\n",
      "Wavelength 656.3 nm\n",
      "Wavelength 656.3 nm\n",
      "Wavelength 656.3 nm\n",
      "Wavelength 656.3 nm\n"
     ]
    },
    {
     "data": {
      "text/plain": [
       "''"
      ]
     },
     "execution_count": 46,
     "metadata": {},
     "output_type": "execute_result"
    }
   ],
   "source": [
    "New_Lens.add_wavelength(wl = 656.30)\n",
    "New_Lens.add_wavelength(wl = 587.60)\n",
    "New_Lens.add_wavelength(wl = 486.10)\n",
    "\n",
    "print(\"\")\n",
    "New_Lens.list_wavelengths()"
   ]
  },
  {
   "cell_type": "code",
   "execution_count": 37,
   "metadata": {},
   "outputs": [
    {
     "name": "stdout",
     "output_type": "stream",
     "text": [
      "Add field angle:0 degree done\n",
      "Add field angle:14 degree done\n",
      "Add field angle:20 degree done\n",
      "list all fields information\n",
      "Field angle: 0\n",
      "Field angle: 14\n",
      "Field angle: 20\n",
      "Field angle: 0\n",
      "Field angle: 14\n",
      "Field angle: 20\n"
     ]
    }
   ],
   "source": [
    "New_Lens.add_field_YAN(angle=0)\n",
    "New_Lens.add_field_YAN(angle=14)\n",
    "New_Lens.add_field_YAN(angle=20)\n",
    "New_Lens.list_fields()"
   ]
  },
  {
   "cell_type": "code",
   "execution_count": 48,
   "metadata": {
    "scrolled": false
   },
   "outputs": [
    {
     "name": "stdout",
     "output_type": "stream",
     "text": [
      "Add surface:  1\n",
      "Add surface:  2\n",
      "Add surface:  3\n",
      "Add surface:  4\n",
      "Add surface:  5\n",
      "Add surface:  6\n",
      "Add surface:  7\n",
      "Add surface:  8\n",
      "Add surface:  9\n"
     ]
    }
   ],
   "source": [
    "New_Lens.add_surface(number=1,radius=10000000,thickness=1000000,glass='air',output=False)\n",
    "New_Lens.add_surface(number=2,radius=41.15909,thickness=6.097555 ,glass='S-BSM18_ohara',output=False)\n",
    "New_Lens.add_surface(number=3,radius=-957.83146,thickness=9.349584,glass='air',output=False)\n",
    "New_Lens.add_surface(number=4,radius=-51.32104,thickness=2.032518,glass='N-SF2_schott',output=False)\n",
    "New_Lens.add_surface(number=5,radius=42.37768 ,thickness=5.995929 ,glass='air',output=False)\n",
    "New_Lens.add_surface(number=6,radius=10000000,thickness=4.065037,glass='air',STO=True,output=False)\n",
    "New_Lens.add_surface(number=7,radius=247.44562,thickness=6.097555,glass='S-BSM18_ohara',output=False)\n",
    "New_Lens.add_surface(number=8,radius=-40.04016,thickness=85.593426,glass='air',output=False)\n",
    "New_Lens.add_surface(number=9,radius=10000000,thickness=0,glass='air',output=False)\n",
    "\n",
    "#Weird radius defined: 3 which are right side of lens are negative"
   ]
  },
  {
   "cell_type": "code",
   "execution_count": 13,
   "metadata": {},
   "outputs": [
    {
     "name": "stdout",
     "output_type": "stream",
     "text": [
      "------------Calculating EFL---------------\n",
      "start surface: 2\n",
      "end surface: 22\n",
      "Rear Focal Length f': -0.006195254997229093\n",
      "---------Calculating Entrance Pupil Position-----------\n",
      "STOP Surface 6\n",
      "STOP thickness 85.593426\n",
      "STOP Surface 6\n",
      "STOP thickness 85.593426\n",
      "STOP Surface 6\n",
      "STOP thickness 85.593426\n",
      "start surface: 2\n",
      "end surface: 5\n",
      "entrance pupil position EP: nan\n",
      "------------Calculating OAL---------------\n",
      "start surface: 2\n",
      "end surface: 23\n",
      "Overall length: 3000335.337111\n"
     ]
    }
   ],
   "source": [
    "New_Lens.refresh_paraxial()"
   ]
  },
  {
   "cell_type": "code",
   "execution_count": 56,
   "metadata": {
    "scrolled": false
   },
   "outputs": [
    {
     "name": "stdout",
     "output_type": "stream",
     "text": [
      "------------------start drawing lens system-------------\n"
     ]
    },
    {
     "ename": "UnboundLocalError",
     "evalue": "local variable 'verts' referenced before assignment",
     "output_type": "error",
     "traceback": [
      "\u001b[0;31m---------------------------------------------------------------------------\u001b[0m",
      "\u001b[0;31mUnboundLocalError\u001b[0m                         Traceback (most recent call last)",
      "\u001b[0;32m<ipython-input-56-ca735df9a9aa>\u001b[0m in \u001b[0;36m<module>\u001b[0;34m\u001b[0m\n\u001b[1;32m      1\u001b[0m \u001b[0mdict_list\u001b[0m \u001b[0;34m=\u001b[0m \u001b[0mrt\u001b[0m\u001b[0;34m.\u001b[0m\u001b[0mtrace\u001b[0m\u001b[0;34m.\u001b[0m\u001b[0mtrace_draw_ray\u001b[0m\u001b[0;34m(\u001b[0m\u001b[0mNew_Lens\u001b[0m\u001b[0;34m)\u001b[0m\u001b[0;34m\u001b[0m\u001b[0;34m\u001b[0m\u001b[0m\n\u001b[0;32m----> 2\u001b[0;31m \u001b[0mrt\u001b[0m\u001b[0;34m.\u001b[0m\u001b[0mdraw\u001b[0m\u001b[0;34m.\u001b[0m\u001b[0mdraw_system\u001b[0m\u001b[0;34m(\u001b[0m\u001b[0mNew_Lens\u001b[0m\u001b[0;34m)\u001b[0m\u001b[0;34m\u001b[0m\u001b[0;34m\u001b[0m\u001b[0m\n\u001b[0m",
      "\u001b[0;32m~/anaconda3/lib/python3.7/site-packages/opticspy-0.2.1-py3.7.egg/opticspy/ray_tracing/draw.py\u001b[0m in \u001b[0;36mdraw_system\u001b[0;34m(Lens)\u001b[0m\n\u001b[1;32m    107\u001b[0m             \u001b[0mx0\u001b[0m \u001b[0;34m=\u001b[0m \u001b[0msum\u001b[0m\u001b[0;34m(\u001b[0m\u001b[0mthinkness_list\u001b[0m\u001b[0;34m[\u001b[0m\u001b[0;36m0\u001b[0m\u001b[0;34m:\u001b[0m\u001b[0;34m-\u001b[0m\u001b[0;36m1\u001b[0m\u001b[0;34m]\u001b[0m\u001b[0;34m)\u001b[0m \u001b[0;34m-\u001b[0m \u001b[0mthinkness_list\u001b[0m\u001b[0;34m[\u001b[0m\u001b[0;36m0\u001b[0m\u001b[0;34m]\u001b[0m\u001b[0;34m\u001b[0m\u001b[0;34m\u001b[0m\u001b[0m\n\u001b[1;32m    108\u001b[0m             \u001b[0;31m#print x0\u001b[0m\u001b[0;34m\u001b[0m\u001b[0;34m\u001b[0m\u001b[0;34m\u001b[0m\u001b[0m\n\u001b[0;32m--> 109\u001b[0;31m         \u001b[0mverts\u001b[0m\u001b[0;34m,\u001b[0m\u001b[0mcodes\u001b[0m\u001b[0;34m,\u001b[0m\u001b[0mstart_end\u001b[0m \u001b[0;34m=\u001b[0m \u001b[0mdraw_surface\u001b[0m\u001b[0;34m(\u001b[0m\u001b[0mr\u001b[0m\u001b[0;34m,\u001b[0m\u001b[0mx0\u001b[0m\u001b[0;34m,\u001b[0m\u001b[0md1\u001b[0m\u001b[0;34m,\u001b[0m\u001b[0md2\u001b[0m\u001b[0;34m)\u001b[0m\u001b[0;34m\u001b[0m\u001b[0;34m\u001b[0m\u001b[0m\n\u001b[0m\u001b[1;32m    110\u001b[0m         \u001b[0mstart_end_list\u001b[0m\u001b[0;34m.\u001b[0m\u001b[0mappend\u001b[0m\u001b[0;34m(\u001b[0m\u001b[0mstart_end\u001b[0m\u001b[0;34m)\u001b[0m\u001b[0;34m\u001b[0m\u001b[0;34m\u001b[0m\u001b[0m\n\u001b[1;32m    111\u001b[0m         \u001b[0mverts_list\u001b[0m\u001b[0;34m.\u001b[0m\u001b[0mappend\u001b[0m\u001b[0;34m(\u001b[0m\u001b[0mverts\u001b[0m\u001b[0;34m)\u001b[0m\u001b[0;34m\u001b[0m\u001b[0;34m\u001b[0m\u001b[0m\n",
      "\u001b[0;32m~/anaconda3/lib/python3.7/site-packages/opticspy-0.2.1-py3.7.egg/opticspy/ray_tracing/draw.py\u001b[0m in \u001b[0;36mdraw_surface\u001b[0;34m(r, x0, d1, d2)\u001b[0m\n\u001b[1;32m     27\u001b[0m         \u001b[0mverts\u001b[0m \u001b[0;34m=\u001b[0m \u001b[0;34m[\u001b[0m\u001b[0;34m[\u001b[0m\u001b[0mverts_1\u001b[0m\u001b[0;34m[\u001b[0m\u001b[0;34m-\u001b[0m\u001b[0;36m1\u001b[0m\u001b[0;34m]\u001b[0m\u001b[0;34m[\u001b[0m\u001b[0;36m0\u001b[0m\u001b[0;34m]\u001b[0m\u001b[0;34m,\u001b[0m\u001b[0md2\u001b[0m\u001b[0;34m/\u001b[0m\u001b[0;36m2\u001b[0m\u001b[0;34m]\u001b[0m\u001b[0;34m]\u001b[0m \u001b[0;34m+\u001b[0m \u001b[0mverts_1\u001b[0m\u001b[0;34m[\u001b[0m\u001b[0;34m:\u001b[0m\u001b[0;34m:\u001b[0m\u001b[0;34m-\u001b[0m\u001b[0;36m1\u001b[0m\u001b[0;34m]\u001b[0m \u001b[0;34m+\u001b[0m \u001b[0mverts_2\u001b[0m\u001b[0;34m[\u001b[0m\u001b[0;36m1\u001b[0m\u001b[0;34m:\u001b[0m\u001b[0;34m]\u001b[0m \u001b[0;34m+\u001b[0m \u001b[0;34m[\u001b[0m\u001b[0;34m[\u001b[0m\u001b[0mverts_2\u001b[0m\u001b[0;34m[\u001b[0m\u001b[0;34m-\u001b[0m\u001b[0;36m1\u001b[0m\u001b[0;34m]\u001b[0m\u001b[0;34m[\u001b[0m\u001b[0;36m0\u001b[0m\u001b[0;34m]\u001b[0m\u001b[0;34m,\u001b[0m\u001b[0;34m-\u001b[0m\u001b[0md2\u001b[0m\u001b[0;34m/\u001b[0m\u001b[0;36m2\u001b[0m\u001b[0;34m]\u001b[0m\u001b[0;34m]\u001b[0m\u001b[0;34m\u001b[0m\u001b[0;34m\u001b[0m\u001b[0m\n\u001b[1;32m     28\u001b[0m     \u001b[0mcodes\u001b[0m\u001b[0;34m.\u001b[0m\u001b[0mappend\u001b[0m\u001b[0;34m(\u001b[0m\u001b[0mPath\u001b[0m\u001b[0;34m.\u001b[0m\u001b[0mMOVETO\u001b[0m\u001b[0;34m)\u001b[0m\u001b[0;34m\u001b[0m\u001b[0;34m\u001b[0m\u001b[0m\n\u001b[0;32m---> 29\u001b[0;31m     \u001b[0;32mfor\u001b[0m \u001b[0mj\u001b[0m \u001b[0;32min\u001b[0m \u001b[0mrange\u001b[0m\u001b[0;34m(\u001b[0m\u001b[0mlen\u001b[0m\u001b[0;34m(\u001b[0m\u001b[0mverts\u001b[0m\u001b[0;34m)\u001b[0m\u001b[0;34m-\u001b[0m\u001b[0;36m1\u001b[0m\u001b[0;34m)\u001b[0m\u001b[0;34m:\u001b[0m\u001b[0;34m\u001b[0m\u001b[0;34m\u001b[0m\u001b[0m\n\u001b[0m\u001b[1;32m     30\u001b[0m         \u001b[0mcodes\u001b[0m\u001b[0;34m.\u001b[0m\u001b[0mappend\u001b[0m\u001b[0;34m(\u001b[0m\u001b[0mPath\u001b[0m\u001b[0;34m.\u001b[0m\u001b[0mLINETO\u001b[0m\u001b[0;34m)\u001b[0m\u001b[0;34m\u001b[0m\u001b[0;34m\u001b[0m\u001b[0m\n\u001b[1;32m     31\u001b[0m     \u001b[0;32mreturn\u001b[0m \u001b[0mverts\u001b[0m\u001b[0;34m,\u001b[0m\u001b[0mcodes\u001b[0m\u001b[0;34m,\u001b[0m\u001b[0;34m[\u001b[0m\u001b[0mverts\u001b[0m\u001b[0;34m[\u001b[0m\u001b[0;36m0\u001b[0m\u001b[0;34m]\u001b[0m\u001b[0;34m,\u001b[0m\u001b[0mverts\u001b[0m\u001b[0;34m[\u001b[0m\u001b[0;34m-\u001b[0m\u001b[0;36m1\u001b[0m\u001b[0;34m]\u001b[0m\u001b[0;34m]\u001b[0m\u001b[0;34m\u001b[0m\u001b[0;34m\u001b[0m\u001b[0m\n",
      "\u001b[0;31mUnboundLocalError\u001b[0m: local variable 'verts' referenced before assignment"
     ]
    },
    {
     "data": {
      "image/png": "[encoded data removed]",
      "text/plain": [
       "<Figure size 864x432 with 1 Axes>"
      ]
     },
     "metadata": {
      "needs_background": "light"
     },
     "output_type": "display_data"
    }
   ],
   "source": [
    "dict_list = rt.trace.trace_draw_ray(New_Lens)\n",
    "rt.draw.draw_system(New_Lens)                "
   ]
  },
  {
   "cell_type": "code",
   "execution_count": 20,
   "metadata": {},
   "outputs": [
    {
     "data": {
      "image/png": "[encoded data removed]",
      "text/plain": [
       "<Figure size 360x360 with 1 Axes>"
      ]
     },
     "metadata": {
      "needs_background": "light"
     },
     "output_type": "display_data"
    },
    {
     "data": {
      "text/plain": [
       "0"
      ]
     },
     "execution_count": 20,
     "metadata": {},
     "output_type": "execute_result"
    }
   ],
   "source": [
    "rt.field.grid_generator(12,grid_type='grid',output = 1)"
   ]
  }
 ],
 "metadata": {
  "kernelspec": {
   "display_name": "Python 3",
   "language": "python",
   "name": "python3"
  },
  "language_info": {
   "codemirror_mode": {
    "name": "ipython",
    "version": 3
   },
   "file_extension": ".py",
   "mimetype": "text/x-python",
   "name": "python",
   "nbconvert_exporter": "python",
   "pygments_lexer": "ipython3",
   "version": "3.7.1"
  }
 },
 "nbformat": 4,
 "nbformat_minor": 2
}

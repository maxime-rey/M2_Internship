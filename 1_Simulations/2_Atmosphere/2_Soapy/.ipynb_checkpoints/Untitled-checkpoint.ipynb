{
 "cells": [
  {
   "cell_type": "code",
   "execution_count": 6,
   "metadata": {},
   "outputs": [],
   "source": [
    "%matplotlib inline"
   ]
  },
  {
   "cell_type": "code",
   "execution_count": 7,
   "metadata": {
    "scrolled": true
   },
   "outputs": [
    {
     "name": "stdout",
     "output_type": "stream",
     "text": [
      "Bul/  conf.yaml  soapy/  Untitled.ipynb\n"
     ]
    }
   ],
   "source": [
    "%ls"
   ]
  },
  {
   "cell_type": "code",
   "execution_count": 18,
   "metadata": {},
   "outputs": [
    {
     "name": "stdout",
     "output_type": "stream",
     "text": [
      "Loading configuration file...\n",
      "Pixel Scale: 12.50 pxls/m\n",
      "subScreenSize: 102 simulation pixels\n",
      "Loading configuration file... success!\n",
      "Starting Sim: 2019-05-02-15-50-39\n",
      "Pixel Scale: 12.50 pxls/m\n",
      "subScreenSize: 102 simulation pixels\n",
      "Creating mask...\n",
      "Turbulence summary @ 500 nm:\n",
      "| r0 = 0.16 m (0.64\" seeing)\n",
      "| Vbar_5/3 = 11.78 m/s\n",
      "| tau0 = 4.26 ms\n",
      "Initialise Infinite Phase Screen 1\n",
      "Initialise Infinite Phase Screen 2\n",
      "Initialise Infinite Phase Screen 3\n",
      "Initialise Infinite Phase Screen 4\n",
      "Initialising WFSs....\n",
      "WFS 0: 104 measurements\n",
      "Initialising 0 DMs...\n",
      "0 total DM Actuators\n",
      "Initialising Reconstructor...\n",
      "Initialising 1 Science Cams...\n",
      "Generating fftw3 plan....\n",
      "If this takes too long, change fftw_FLAGS.\n",
      "Done!\n",
      "Initialise Data Storage...\n",
      "Initialisation Complete!\n",
      "Making interaction Matrices...\n",
      "Load Interaction Matrices failed with error: Traceback (most recent call last):\n",
      "  File \"/home/novae/rey/anaconda3/lib/python3.7/site-packages/soapy-v0.13.1_282_g2fe49b6-py3.7.egg/soapy/reconstruction.py\", line 363, in makeCMat\n",
      "    self.load_interaction_matrix()\n",
      "  File \"/home/novae/rey/anaconda3/lib/python3.7/site-packages/soapy-v0.13.1_282_g2fe49b6-py3.7.egg/soapy/reconstruction.py\", line 208, in load_interaction_matrix\n",
      "    imat_header = fits.getheader(filename)\n",
      "  File \"/home/novae/rey/anaconda3/lib/python3.7/site-packages/astropy/io/fits/convenience.py\", line 105, in getheader\n",
      "    hdulist, extidx = _getext(filename, mode, *args, **kwargs)\n",
      "  File \"/home/novae/rey/anaconda3/lib/python3.7/site-packages/astropy/io/fits/convenience.py\", line 1024, in _getext\n",
      "    hdulist = fitsopen(filename, mode=mode, **kwargs)\n",
      "  File \"/home/novae/rey/anaconda3/lib/python3.7/site-packages/astropy/io/fits/hdu/hdulist.py\", line 151, in fitsopen\n",
      "    lazy_load_hdus, **kwargs)\n",
      "  File \"/home/novae/rey/anaconda3/lib/python3.7/site-packages/astropy/io/fits/hdu/hdulist.py\", line 390, in fromfile\n",
      "    lazy_load_hdus=lazy_load_hdus, **kwargs)\n",
      "  File \"/home/novae/rey/anaconda3/lib/python3.7/site-packages/astropy/io/fits/hdu/hdulist.py\", line 1039, in _readfrom\n",
      "    fileobj = _File(fileobj, mode=mode, memmap=memmap, cache=cache)\n",
      "  File \"/home/novae/rey/anaconda3/lib/python3.7/site-packages/astropy/utils/decorators.py\", line 521, in wrapper\n",
      "    return function(*args, **kwargs)\n",
      "  File \"/home/novae/rey/anaconda3/lib/python3.7/site-packages/astropy/io/fits/file.py\", line 178, in __init__\n",
      "    self._open_filename(fileobj, mode, overwrite)\n",
      "  File \"/home/novae/rey/anaconda3/lib/python3.7/site-packages/astropy/io/fits/file.py\", line 555, in _open_filename\n",
      "    self._file = fileobj_open(self.name, IO_FITS_MODES[mode])\n",
      "  File \"/home/novae/rey/anaconda3/lib/python3.7/site-packages/astropy/io/fits/util.py\", line 388, in fileobj_open\n",
      "    return open(filename, mode, buffering=0)\n",
      "FileNotFoundError: [Errno 2] No such file or directory: 'Simumax/iMat.fits'\n",
      " - will create new one...\n",
      "Interaction Matrices Done\n",
      "Load Command Matrix\n",
      "reconstruction.py -> makeCMat: Load Command Matrix failed qith error: Traceback (most recent call last):\n",
      "  File \"/home/novae/rey/anaconda3/lib/python3.7/site-packages/soapy-v0.13.1_282_g2fe49b6-py3.7.egg/soapy/reconstruction.py\", line 381, in makeCMat\n",
      "    self.loadCMat()\n",
      "  File \"/home/novae/rey/anaconda3/lib/python3.7/site-packages/soapy-v0.13.1_282_g2fe49b6-py3.7.egg/soapy/reconstruction.py\", line 135, in loadCMat\n",
      "    cMatHDU = fits.open(filename)[0]\n",
      "  File \"/home/novae/rey/anaconda3/lib/python3.7/site-packages/astropy/io/fits/hdu/hdulist.py\", line 151, in fitsopen\n",
      "    lazy_load_hdus, **kwargs)\n",
      "  File \"/home/novae/rey/anaconda3/lib/python3.7/site-packages/astropy/io/fits/hdu/hdulist.py\", line 390, in fromfile\n",
      "    lazy_load_hdus=lazy_load_hdus, **kwargs)\n",
      "  File \"/home/novae/rey/anaconda3/lib/python3.7/site-packages/astropy/io/fits/hdu/hdulist.py\", line 1039, in _readfrom\n",
      "    fileobj = _File(fileobj, mode=mode, memmap=memmap, cache=cache)\n",
      "  File \"/home/novae/rey/anaconda3/lib/python3.7/site-packages/astropy/utils/decorators.py\", line 521, in wrapper\n",
      "    return function(*args, **kwargs)\n",
      "  File \"/home/novae/rey/anaconda3/lib/python3.7/site-packages/astropy/io/fits/file.py\", line 178, in __init__\n",
      "    self._open_filename(fileobj, mode, overwrite)\n",
      "  File \"/home/novae/rey/anaconda3/lib/python3.7/site-packages/astropy/io/fits/file.py\", line 555, in _open_filename\n",
      "    self._file = fileobj_open(self.name, IO_FITS_MODES[mode])\n",
      "  File \"/home/novae/rey/anaconda3/lib/python3.7/site-packages/astropy/io/fits/util.py\", line 388, in fileobj_open\n",
      "    return open(filename, mode, buffering=0)\n",
      "FileNotFoundError: [Errno 2] No such file or directory: 'Simumax/cMat.fits'\n",
      " - will create new one...\n",
      "Invert iMat with conditioning: 0.0300\n",
      "Command Matrix Generated!\n",
      "100 of 100: Simumax  Strehl -- sci_0: inst 0.10, long 0.05 \n",
      "\n",
      "\n",
      "Science Camera 0: Long Exposure Strehl Ratio: 0.05\n",
      "                  EE50 diameter [mas]: 425\n",
      "\n",
      "\n",
      "Time moving atmosphere: 0.02\n",
      "Time making IMats and CMats: 0.30\n",
      "Time in WFS: 3.12\n",
      "\t of which time spent in : 0.00\n",
      "Time in Reconstruction: 0.00\n",
      "Time in DM: 0.00\n",
      "Time making science image: 1.03\n",
      "\n",
      "\n",
      "CPU times: user 44.7 s, sys: 216 ms, total: 44.9 s\n",
      "Wall time: 8.85 s\n"
     ]
    }
   ],
   "source": [
    "%%time\n",
    "import soapy\n",
    "sim = soapy.Sim(\"soapy/conf/conf2.yaml\")\n",
    "sim.aoinit()\n",
    "sim.makeIMat()\n",
    "sim.aoloop()"
   ]
  },
  {
   "cell_type": "code",
   "execution_count": null,
   "metadata": {},
   "outputs": [],
   "source": []
  }
 ],
 "metadata": {
  "kernelspec": {
   "display_name": "Python 3",
   "language": "python",
   "name": "python3"
  },
  "language_info": {
   "codemirror_mode": {
    "name": "ipython",
    "version": 3
   },
   "file_extension": ".py",
   "mimetype": "text/x-python",
   "name": "python",
   "nbconvert_exporter": "python",
   "pygments_lexer": "ipython3",
   "version": "3.7.1"
  }
 },
 "nbformat": 4,
 "nbformat_minor": 2
}

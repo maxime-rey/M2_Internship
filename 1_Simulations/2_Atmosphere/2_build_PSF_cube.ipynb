{
 "cells": [
  {
   "cell_type": "code",
   "execution_count": 1,
   "metadata": {
    "scrolled": true
   },
   "outputs": [],
   "source": [
    "%matplotlib inline"
   ]
  },
  {
   "cell_type": "code",
   "execution_count": 2,
   "metadata": {},
   "outputs": [],
   "source": [
    "from matplotlib.colors import LogNorm\n",
    "import matplotlib.pyplot as plt\n",
    "import psfModels as pM\n",
    "import fit_psf as fp\n",
    "import numpy as np"
   ]
  },
  {
   "cell_type": "markdown",
   "metadata": {},
   "source": [
    "## Utility functions "
   ]
  },
  {
   "cell_type": "code",
   "execution_count": 162,
   "metadata": {},
   "outputs": [],
   "source": [
    "def plot_2D_color_psf(array, log_scale=True, plot_title=''):\n",
    "    \n",
    "    fig, ax = plt.subplots()\n",
    "    \n",
    "    size_arr_arcsec = len(array)*pxscale/2\n",
    "\n",
    "    if log_scale:\n",
    "        img = ax.imshow(array, norm=LogNorm(vmin=10**-5, vmax=1), origin='lower',\n",
    "                    extent=(-size_arr_arcsec, size_arr_arcsec, -size_arr_arcsec, size_arr_arcsec), vmin=10**-2)\n",
    "    else:\n",
    "        img = ax.imshow(array, origin='lower',\n",
    "                    extent=(-size_arr_arcsec, size_arr_arcsec, -size_arr_arcsec, size_arr_arcsec), vmin=10**-2)\n",
    "    ax.set_title(plot_title)\n",
    "    #ax.set_ylim(-5,5)\n",
    "    #ax.set_xlim(-5,5)\n",
    "    fig.colorbar(img)"
   ]
  },
  {
   "cell_type": "code",
   "execution_count": 5,
   "metadata": {},
   "outputs": [],
   "source": [
    "def plot_semipsf_diff_expo(function, lbda, pxscale, r0):\n",
    "    \"\"\"\n",
    "    Plot kolmogorov psf for several index. \n",
    "    Arguments for function are 'Kolmogorov_FFT_interpolation', 'Kolmogorov_Hankel' or 'Kolmogorov_Hankel_interpolation'.\n",
    "    \"\"\"\n",
    "    \n",
    "    me_x_axis = np.linspace(0,5)\n",
    "    index = [4/3, 3/2, 5/3, 11/6]\n",
    "    \n",
    "    fig, ax = plt.subplots()\n",
    "    \n",
    "    for i in index:\n",
    "        if function == 'Kolmogorov_FFT_interpolation':\n",
    "            test_psf = pM.psf_Kolmogorov_FFT_interp(me_x_axis.max()+1, lbda, pxscale, r0=r0, expo=i)(me_x_axis) \n",
    "        if function == 'Kolmogorov_Hankel':\n",
    "            test_psf = pM.psf_Kolmogorov_Hankel(me_x_axis, lbda, r0=r0, expo=i)\n",
    "        if function == 'Kolmogorov_Hankel_interpolation':\n",
    "            test_psf = pM.psf_Kolmogorov_Hankel_interp(me_x_axis.max()+1, lbda, r0=r0, npts=50, expo=i)(me_x_axis)\n",
    "            \n",
    "        ax.plot(me_x_axis, test_psf, label='n = {:.3f}'.format(i))\n",
    "        \n",
    "    ax.set_ylim(10**-4)\n",
    "    ax.set_xlim(0,5)\n",
    "    \n",
    "    ax.set_yscale('log')\n",
    "    ax.set_ylabel('Normalised flux')\n",
    "    ax.set_xlabel('r [arcsec]')\n",
    "    \n",
    "    ax.set_title(function)    \n",
    "    ax.legend()"
   ]
  },
  {
   "cell_type": "markdown",
   "metadata": {},
   "source": [
    "## Make array of r"
   ]
  },
  {
   "cell_type": "code",
   "execution_count": 6,
   "metadata": {
    "scrolled": true
   },
   "outputs": [],
   "source": [
    "seeing = 1.0                                               # [arcsec]\n",
    "\n",
    "\n",
    "pxscale = 0.401                                            # [arcsec/pix]       (i.e. résolution)\n",
    "lbda = 5000e-10                                            # [m]\n",
    "r0 = 0.10 #0.98 * lbda/seeing * (180/np.pi) * 3600           # [m]\n",
    "\n",
    "size_array = 100                                            # [pixels]           (i.e. size of map)\n",
    "\n",
    "shape = (size_array,size_array)                                            # [] size of the grid\n",
    "\n",
    "x, y = fp.create_coords(shape, starts='auto', steps=pxscale, sparse=True)\n",
    "radius = np.hypot(x, y)\n",
    "\n",
    "#size_arr_arcsec = size_array*pxscale/2\n",
    "\n",
    "\n",
    "#plot_2D_color_psf(radius, log_scale=False, plot_title='Radius map in arcsec')"
   ]
  },
  {
   "cell_type": "markdown",
   "metadata": {},
   "source": [
    "CAREFUL\n",
    "\n",
    "Table has values in arcsec\n",
    "\n",
    "Indexes of table or not in arcsec"
   ]
  },
  {
   "cell_type": "markdown",
   "metadata": {},
   "source": [
    "## Interpolation FFT"
   ]
  },
  {
   "cell_type": "markdown",
   "metadata": {},
   "source": [
    "psf_fft_inter = pM.psf_Kolmogorov_FFT_interp(radius.max(), lbda, pxscale, r0=r0, expo=expo)(radius) \n",
    "\n",
    "#plot_2D_color_psf(psf_fft_inter, plot_title='FFT with interpolation')\n",
    "#plt.savefig('psf_meself_kolmo')\n",
    "#plot_semipsf_diff_expo('Kolmogorov_FFT_interpolation', lbda, pxscale, r0)"
   ]
  },
  {
   "cell_type": "markdown",
   "metadata": {},
   "source": [
    "## Hankel"
   ]
  },
  {
   "cell_type": "markdown",
   "metadata": {
    "scrolled": false
   },
   "source": [
    "psf_Hank = pM.psf_Kolmogorov_Hankel(radius, lbda, r0=r0)\n",
    "\n",
    "#plot_2D_color_psf(psf_Hank, plot_title='Hankel transform')\n",
    "#plot_semipsf_diff_expo('Kolmogorov_Hankel', lbda, pxscale, r0)"
   ]
  },
  {
   "cell_type": "markdown",
   "metadata": {},
   "source": [
    "## Interpolation Hankel"
   ]
  },
  {
   "cell_type": "code",
   "execution_count": 155,
   "metadata": {},
   "outputs": [
    {
     "data": {
      "image/png": "[encoded data removed]",
      "text/plain": [
       "<Figure size 432x288 with 2 Axes>"
      ]
     },
     "metadata": {
      "needs_background": "light"
     },
     "output_type": "display_data"
    },
    {
     "data": {
      "image/png": "[encoded data removed]",
      "text/plain": [
       "<Figure size 432x288 with 1 Axes>"
      ]
     },
     "metadata": {
      "needs_background": "light"
     },
     "output_type": "display_data"
    }
   ],
   "source": [
    "psf_Hank_inter = pM.psf_Kolmogorov_Hankel_interp(radius.max(), lbda, r0=r0, npts=50)(radius)\n",
    "\n",
    "plot_2D_color_psf(psf_Hank_inter, plot_title='Hankel transform interpolated')\n",
    "plot_semipsf_diff_expo('Kolmogorov_Hankel_interpolation', lbda, pxscale, r0)"
   ]
  },
  {
   "cell_type": "markdown",
   "metadata": {},
   "source": [
    "## Cube of PSF"
   ]
  },
  {
   "cell_type": "code",
   "execution_count": 145,
   "metadata": {},
   "outputs": [],
   "source": [
    "lambdas = np.linspace(4000,5000,101)"
   ]
  },
  {
   "cell_type": "code",
   "execution_count": 156,
   "metadata": {
    "scrolled": false
   },
   "outputs": [],
   "source": [
    "# PSF corresponding to the wavelength lambdas[i] is psf_cube[i,:,:]\n",
    "\n",
    "psf_cube = np.zeros(shape=(len(lambdas),psf_Hank_inter.shape[0],psf_Hank_inter.shape[1]))\n",
    "i=0\n",
    "for lbdas_value in lambdas:\n",
    "    psf_cube[i,:,:] = pM.psf_Kolmogorov_Hankel(radius, lbda, r0=r0)\n",
    "    #psf_cube[i,:,:] = pM.psf_Kolmogorov_Hankel_interp(radius.max(), lbdas_value, r0=r0, npts=50)(radius)\n",
    "    i+=1"
   ]
  },
  {
   "cell_type": "markdown",
   "metadata": {},
   "source": [
    "## Plot a slice of the PSF cube"
   ]
  },
  {
   "cell_type": "code",
   "execution_count": 201,
   "metadata": {
    "scrolled": true
   },
   "outputs": [
    {
     "data": {
      "image/png": "[encoded data removed]",
      "text/plain": [
       "<Figure size 432x288 with 2 Axes>"
      ]
     },
     "metadata": {
      "needs_background": "light"
     },
     "output_type": "display_data"
    }
   ],
   "source": [
    "plot_2D_color_psf(psf_cube[100,:,:], plot_title='Hankel transform')  "
   ]
  }
 ],
 "metadata": {
  "kernelspec": {
   "display_name": "Python 3",
   "language": "python",
   "name": "python3"
  },
  "language_info": {
   "codemirror_mode": {
    "name": "ipython",
    "version": 3
   },
   "file_extension": ".py",
   "mimetype": "text/x-python",
   "name": "python",
   "nbconvert_exporter": "python",
   "pygments_lexer": "ipython3",
   "version": "3.7.1"
  }
 },
 "nbformat": 4,
 "nbformat_minor": 2
}

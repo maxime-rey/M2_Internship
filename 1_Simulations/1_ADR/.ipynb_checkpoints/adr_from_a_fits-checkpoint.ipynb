{
 "cells": [
  {
   "cell_type": "code",
   "execution_count": 1,
   "metadata": {},
   "outputs": [],
   "source": [
    "%matplotlib inline"
   ]
  },
  {
   "cell_type": "code",
   "execution_count": 2,
   "metadata": {},
   "outputs": [],
   "source": [
    "import math\n",
    "import numpy as np\n",
    "import matplotlib.pyplot as plt\n",
    "\n",
    "import astropy.io.fits as F\n",
    "import astropy.coordinates as AC\n",
    "from astropy import units as u\n",
    "\n",
    "from pyifu import adr as ADR"
   ]
  },
  {
   "cell_type": "code",
   "execution_count": 3,
   "metadata": {},
   "outputs": [],
   "source": [
    "plt.rcParams['figure.figsize'] = (12, 6)\n",
    "plt.rcParams['image.origin'] = True"
   ]
  },
  {
   "cell_type": "code",
   "execution_count": 5,
   "metadata": {},
   "outputs": [
    {
     "name": "stdout",
     "output_type": "stream",
     "text": [
      "SIMPLE  =                    T / conforms to FITS standard                      \n",
      "BITPIX  =                  -64 / array data type                                \n",
      "NAXIS   =                    2 / number of array dimensions                     \n",
      "NAXIS1  =                 2048                                                  \n",
      "NAXIS2  =                 2048                                                  \n",
      "COMMENT   FITS (Flexible Image Transport System) format is defined in 'Astronomy\n",
      "COMMENT   and Astrophysics', volume 376, page 359; bibcode: 2001A&A...376..359H \n",
      "OBJECT  = 'HD11980 '           / Name of object observed                        \n",
      "OBSERVER= '        '           / observer                                       \n",
      "PROPID  = '        '           / Proposal ID                                    \n",
      "RECID   = 'ct36.20170531.024522' / NOAO Archibe record ID                       \n",
      "PROPID  = '        '           / Proposal ID                                    \n",
      "IMAGETYP= 'object  '           / Type of picture (object, dark, comp, etc)      \n",
      "CCDSUM  = '1 1     '           / On chip summation (X, Y)                       \n",
      "XSTART  =                    1 / start of roi in X                              \n",
      "YSTART  =                    1 / start of roi in Y                              \n",
      "XLENGTH =                 2048 / length of roi in X                             \n",
      "YLENGTH =                 2048 / length of roi in Y                             \n",
      "UTSHUT  = '2017-05-31T02:45:22.598' / UT of shutter open                        \n",
      "UT      = '02:45:22.598'       / UT of TCS coordinates                          \n",
      "DATE-OBS= '2017-05-31T02:45:22.598' / date of observations start                \n",
      "DATE    = '2017-05-31T02:46:24' / file creation date (YYYY-MM-DDThh:mm:ss UT)   \n",
      "NAMPSYX = '2 2     '           / Num amps in y and x (eg. '2 2=quad')           \n",
      "AMPLIST = '11 12 21 22'        / Readout order in y,x                           \n",
      "GTRON11 =                  12. / (e-) predicted read noise, lower left          \n",
      "GTRON12 =                  12. / (e-) predicted read noise, lower right         \n",
      "GTRON21 =                  12. / (e-) predicted read noise, upper left          \n",
      "GTRON22 =                  12. / (e-) predicted read noise, upper right         \n",
      "GTGAIN11=                   3. / (e-/ADU) predicted gain, lower left            \n",
      "GTGAIN12=                   3. / (e-/ADU) predicted gain, lower right           \n",
      "GTGAIN21=                   3. / (e-/ADU) predicted gain, upper left            \n",
      "GTGAIN22=                   3. / (e-/ADU) predicted gain, upper right           \n",
      "ASEC11  = '[1:1084,1:1024]'    / amplifier section Amp11(LL) detID 1            \n",
      "BSEC11  = '[1045:1084,1:1024]' / bias section Amp11(LL) detID 1                 \n",
      "CSEC11  = '[1:1034,1:1024]'    / section in full ccd for DSEC Amp11(LL) detID 1 \n",
      "DSEC11  = '[1:1034,1:1024]'    / image section in raw frame Amp11(LL) detID 1   \n",
      "TSEC11  = '[11:1034,1:1024]'   / trim section Amp11(LL) detID 1                 \n",
      "ABSEC11 = '[1045:1084,1:1024]' / overscan inside amp                            \n",
      "ADSEC11 = '[1:1024,1:1024]'    / detector section only                          \n",
      "ASEC12  = '[1085:2168,1:1024]' / amplifier section Amp12(LR) detID 1            \n",
      "BSEC12  = '[1085:1124,1:1024]' / bias section Amp12(LR) detID 1                 \n",
      "CSEC12  = '[1035:2068,1:1024]' / section in full ccd for DSEC Amp12(LR) detID 1 \n",
      "DSEC12  = '[1135:2168,1:1024]' / image section in raw frame Amp12(LR) detID 1   \n",
      "TSEC12  = '[1135:2158,1:1024]' / trim section Amp12(LR) detID 1                 \n",
      "ABSEC12 = '[1:40,1:1024]'      / overscan inside amp                            \n",
      "ADSEC12 = '[1025:2048,1:1024]' / detector section only                          \n",
      "ASEC21  = '[1:1084,1025:2048]' / amplifier section Amp21(UL) detID 1            \n",
      "BSEC21  = '[1045:1084,1025:2048]' / bias section Amp21(UL) detID 1              \n",
      "CSEC21  = '[1:1034,1025:2048]' / section in full ccd for DSEC Amp21(UL) detID 1 \n",
      "DSEC21  = '[1:1034,1025:2048]' / image section in raw frame Amp21(UL) detID 1   \n",
      "TSEC21  = '[11:1034,1025:2048]' / trim section Amp21(UL) detID 1                \n",
      "ABSEC21 = '[1045:1084,1:1024]' / overscan inside amp                            \n",
      "ADSEC21 = '[1:1024,1025:2048]' / detector section only                          \n",
      "ASEC22  = '[1085:2168,1025:2048]' / amplifier section Amp22(UR) detID 1         \n",
      "BSEC22  = '[1085:1124,1025:2048]' / bias section Amp22(UR) detID 1              \n",
      "CSEC22  = '[1035:2068,1025:2048]' / section in full ccd for DSEC Amp22(UR) detID\n",
      "DSEC22  = '[1135:2168,1025:2048]' / image section in raw frame Amp22(UR) detID 1\n",
      "TSEC22  = '[1135:2158,1025:2048]' / trim section Amp22(UR) detID 1              \n",
      "ABSEC22 = '[1:40,1:1024]'      / overscan inside amp                            \n",
      "ADSEC22 = '[1025:2048,1025:2048]' / detector section only                       \n",
      "ROISEC00= '[1:2048,1:2048]'    / roi section                                    \n",
      "DETECTOR= 'Tek2K_3 '           / Detector Identifier                            \n",
      "FPA     = 'SITE2K  '           / focal plan array                               \n",
      "REXPTIME=                  60. / requested exposure time in secs                \n",
      "EXPTIME =                  60. / Exposure time in secs                          \n",
      "DARKTIME=                  60. / Total elapsed time in secs                     \n",
      "NIMAGES =                    1 / number of images requested in sequence         \n",
      "PIXELT  = '25000.000000'       / (ns) unbinned pixel read time                  \n",
      "DHEINF  = 'MNSN torrent hardware' / controller info                             \n",
      "DHEFIRM = '/home/observer/panview/fpas/_biw/config/DETECTOR/site2k_sequencer.uc'\n",
      "PIXTIME = '25      '           / pixel time (usecs)                             \n",
      "POWSTAT = '3.000   '           / power supplies status (3=OK)                   \n",
      "CCDSETP = '163.000 '           / ccd temperature setpoint                       \n",
      "CCDTEMP = '161.500 '           / CCD temperature                                \n",
      "NECKTEMP= '134.000 '           / dewar NECK temperature                         \n",
      "HEATERSP= '17.323  '           / Heater power percent.                          \n",
      "VDDA    = '24.049  '           / bias output amplifier A                        \n",
      "VDDB    = '23.959  '           / bias output amplifier B                        \n",
      "VDDC    = '24.408  '           / bias output amplifier C                        \n",
      "VDDD    = '24.184  '           / bias output amplifier D                        \n",
      "VRDA    = '13.855  '           / Reset Drain amplifier A                        \n",
      "VRDB    = '13.825  '           / Reset Drain amplifier B                        \n",
      "VRDC    = '14.064  '           / Reset Drain amplifier C                        \n",
      "VRDD    = '13.975  '           / Reset Drain amplifier D                        \n",
      "LGA     = '-2.022  '           / Reset Drain amplifier A                        \n",
      "LGB     = '-2.052  '           / Reset Drain amplifier B                        \n",
      "LGC     = '-1.972  '           / Reset Drain amplifier C                        \n",
      "LGD     = '-1.952  '           / Reset Drain amplifier D                        \n",
      "SLOT00  = 'LCB 0x188538 2.240000' / dhe board: <type> <serial> <firmware>       \n",
      "SLOT01  = 'PSM 0x45834F 2.210000' / dhe board: <type> <serial> <firmware>       \n",
      "SLOT02  = 'CFG 0xNONE 2.240000' / dhe board: <type> <serial> <firmware>         \n",
      "SLOT03  = 'PIX 0xNONE 2.210000' / dhe board: <type> <serial> <firmware>         \n",
      "SLOT04  = 'CCDAFE 0x188167 18805C 2.210000' / dhe board: <type> <serial> <firmwa\n",
      "SLOT07  = 'CB 0xNONE 2.240000' / dhe board: <type> <serial> <firmware>          \n",
      "SLOT02  = 'TSM 0x3C6784 NONE'  / dhe board: <type> <serial> <firmware>          \n",
      "VANPLUS =             10.54422 / analog voltage plus                            \n",
      "VANMINU =             -10.5137 / analog voltage minus                           \n",
      "FPGATEMP=             33.00492 / torrent fpga temperature                       \n",
      "ID      = '[ct36.20170531.024522]' / ID                                         \n",
      "OBSERVAT= 'CTIO    '           / Origin of data                                 \n",
      "TELESCOP= 'CTIO 0.9 meter telescope' / Specific system                          \n",
      "TELID   = 'ct36    '           / CTIO 0.9 meter telescope                       \n",
      "TCS-TIME= '2017-05-31T02:45:22.38' / date of observation start                  \n",
      "UT      = '02:45:22.38'        / UT of TCS coords                               \n",
      "RA      = '12:53:8.11'         / ra                                             \n",
      "DEC     = '-18:33:27.78'       / dec                                            \n",
      "EPOCH   =                2000. / epoch                                          \n",
      "ZD      =                26.15 / zenith distance                                \n",
      "HA      = '01:44:11.73'        / hour angle                                     \n",
      "ST      = '14:37:19.84'        / sidereal time                                  \n",
      "AIRMASS =                1.114 / airmass                                        \n",
      "ALT     = '-45.84  '           / altitud                                        \n",
      "TELFOCUS=               12450. / telescope focus                                \n",
      "WEATIME = '2017-05-31 02:45:01' / weather timestamp                             \n",
      "OUTTEMP =                  8.5 / outside temp (C)                               \n",
      "OUTHUM  =                   25 / outside humidity (%)                           \n",
      "OUTPRESS=                 784. / outside pressure (hPa)                         \n",
      "WNDSPEED=                  3.8 / wind speed (mph)                               \n",
      "WNDDIR  =                  157 / wind dir (degrees)                             \n",
      "SEETIME = '2017-05-31 02:46:20' / seeing timestamp                              \n",
      "SEEING  =                0.593 / seeing                                         \n",
      "SAIRMASS=                1.011 / seeing airmass                                 \n",
      "PANID   = '_biw    '           / PAN identification                             \n",
      "COMMENT image                                                                   \n",
      "COMMENT Image is trimmed                                                        \n",
      "FILTER1 = 'dia     '           / Filter in wheel 1                              \n",
      "FNAME1  = 'DIAFRAGM'           / Full name of filter in wheel 1                 \n",
      "FILTER2 = 'Ron400  '           / Filter in wheel 2                              \n",
      "FNAME2  = 'Ronchi400'          / Full name of filter in wheel 2                 \n",
      "FILTERS = 'dia Ron400'         / Filter positions                               \n",
      "INSTRUME= 'cfccd   '           / cassegrain direct imager                       \n",
      "XPIXSIZE=                0.401 / Pixel size in X (arcsecs/pix)                  \n",
      "YPIXSIZE=                0.401 / Pixel size in Y (arcsecs/pix)                  \n",
      "TEST    =                   2. / my keyword                                     \n"
     ]
    }
   ],
   "source": [
    "hdu = F.open(\"Data/reduc_20170530_130.fits\") \n",
    "head = hdu[0].header\n",
    "print(repr(head))"
   ]
  },
  {
   "cell_type": "markdown",
   "metadata": {},
   "source": [
    "## **From Header**"
   ]
  },
  {
   "cell_type": "code",
   "execution_count": 5,
   "metadata": {
    "scrolled": false
   },
   "outputs": [],
   "source": [
    "dec = AC.Angle(head['DEC'], unit=u.deg)\n",
    "hour_angle = AC.Angle(head['HA'], unit=u.hourangle)\n",
    "\n",
    "temperature = head['OUTTEMP']         # outside temp (C) \n",
    "pressure = head['OUTPRESS']           # outside pressure (mbar)\n",
    "humidity = head['OUTHUM']             # outside humidity (%)\n",
    "airmass = head['AIRMASS']             # airmass\n",
    "\n",
    "\n",
    "#print('On the ' + str(time).split('T')[0] + ' at ' + str(time).split('T')[1] + '\\n')\n",
    "#print('declination angle ~ {x:.4f}'.format(x=dec))\n",
    "#print('  right ascension ~ {x:.4f}'.format(x=ra.degree*u.deg))\n",
    "#print('       hour angle ~ {x:.4f} \\n'.format(x=hour_angle.degree*u.deg))\n",
    "#print('temperature = {}°C'.format(temperature))\n",
    "#print('   pressure = {} mbar'.format(pressure))\n",
    "#print('   humidity = {}%'.format(humidity))\n",
    "#print('    airmass = {}'.format(airmass))"
   ]
  },
  {
   "cell_type": "markdown",
   "metadata": {},
   "source": [
    "## **Added Data**\n",
    "Correct onlyf SMARTS 0.9-m is the telescope used (written 0.9m telescope on header)\n",
    "http://www.ctio.noao.edu/noao/node/2085\n",
    "\n",
    "---"
   ]
  },
  {
   "cell_type": "code",
   "execution_count": 6,
   "metadata": {},
   "outputs": [],
   "source": [
    "geod_lat = AC.Latitude('-30:10:07.90', unit=u.deg)                         #from CTIO doc\n",
    "geod_lon = AC.Angle('-70:48:23.86', unit=u.deg)   \n",
    "geod_height = 2241.4* u.m\n",
    "elevation = 2206.8* u.m\n",
    "\n",
    "\n",
    "#print('geodetic longitude ~ {x:.4f}'.format(x=geod_lon))\n",
    "#print('geodetic latitude  ~ {x:.4f}'.format(x=geod_lat))\n",
    "#print('geodetic height = {}'.format(geod_height))\n",
    "#print('         elevation = {}'.format(elevation))"
   ]
  },
  {
   "cell_type": "markdown",
   "metadata": {},
   "source": [
    "## **Checks**"
   ]
  },
  {
   "cell_type": "markdown",
   "metadata": {},
   "source": [
    "### Yannick -> works but weird zenith dist"
   ]
  },
  {
   "cell_type": "code",
   "execution_count": 7,
   "metadata": {},
   "outputs": [
    {
     "name": "stdout",
     "output_type": "stream",
     "text": [
      "\n",
      " Parallactic angle = 121.1216 degrees\n"
     ]
    }
   ],
   "source": [
    "zenithdist, parangle = ADR.hadec2zdpar(hour_angle.degree, dec.degree, geod_lat.degree, deg=True)\n",
    "\n",
    "print('\\n Parallactic angle = {x:.4f} degrees'.format(x=parangle))"
   ]
  },
  {
   "cell_type": "markdown",
   "metadata": {},
   "source": [
    "## Build ADR plot"
   ]
  },
  {
   "cell_type": "code",
   "execution_count": 8,
   "metadata": {},
   "outputs": [],
   "source": [
    "x_ref =  5                           # in arcsec\n",
    "y_ref =  6                           # in arcsec\n",
    "lbdaref = 4000                       # in angstrom\n",
    "\n",
    "lbdas = np.linspace(4000, 6000, 10)"
   ]
  },
  {
   "cell_type": "code",
   "execution_count": 9,
   "metadata": {
    "scrolled": false
   },
   "outputs": [],
   "source": [
    "adr = ADR.ADR(airmass=airmass, parangle=parangle, temperature=temperature,\n",
    "              pressure=pressure, lbdaref=lbdaref, relathumidity=humidity)\n",
    "\n",
    "arcsecshift = adr.refract(x_ref, y_ref, lbdas)"
   ]
  },
  {
   "cell_type": "code",
   "execution_count": 10,
   "metadata": {},
   "outputs": [],
   "source": [
    "pixsize = head['XPIXSIZE']            # Size of a pixel in arcsec\n",
    "xpix_shift = (arcsecshift[0] - x_ref)/pixsize\n",
    "ypix_shift = (arcsecshift[1] - y_ref)/pixsize"
   ]
  },
  {
   "cell_type": "code",
   "execution_count": 11,
   "metadata": {
    "scrolled": true
   },
   "outputs": [
    {
     "data": {
      "image/png": "[encoded data removed]",
      "text/plain": [
       "<Figure size 864x432 with 2 Axes>"
      ]
     },
     "metadata": {
      "needs_background": "light"
     },
     "output_type": "display_data"
    }
   ],
   "source": [
    "fig, [ax1, ax2] = plt.subplots(nrows=1, ncols=2)\n",
    "\n",
    "ax1.plot(lbdas, ypix_shift)\n",
    "ax1.set_title('Title1')\n",
    "ax1.set_xlabel('wavelength (A)')\n",
    "ax1.set_ylabel('centered shift in pixel')\n",
    "\n",
    "ax2.plot(xpix_shift, ypix_shift)\n",
    "ax2.set_title('Title2')\n",
    "ax2.set_xlabel('centered x shift in pixel')\n",
    "ax2.set_ylabel('centered y shift in pixel')\n",
    "\n",
    "plt.tight_layout()\n",
    "plt.show()"
   ]
  }
 ],
 "metadata": {
  "kernelspec": {
   "display_name": "Python 3",
   "language": "python",
   "name": "python3"
  },
  "language_info": {
   "codemirror_mode": {
    "name": "ipython",
    "version": 3
   },
   "file_extension": ".py",
   "mimetype": "text/x-python",
   "name": "python",
   "nbconvert_exporter": "python",
   "pygments_lexer": "ipython3",
   "version": "3.7.1"
  }
 },
 "nbformat": 4,
 "nbformat_minor": 2
}

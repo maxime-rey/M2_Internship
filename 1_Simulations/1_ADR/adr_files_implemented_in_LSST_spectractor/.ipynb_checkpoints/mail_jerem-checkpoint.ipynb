{
 "cells": [
  {
   "cell_type": "code",
   "execution_count": 5,
   "metadata": {},
   "outputs": [],
   "source": [
    "import spectractor.simulation.simulator as SSS\n",
    "import spectractor.extractor.psf as SEP\n",
    "import spectractor.fit.fitter as SFF\n",
    "import spectractor.parameters as SP\n",
    "import spectractor.tools as ST\n",
    "\n",
    "import matplotlib.pyplot as plt\n",
    "import numpy as np"
   ]
  },
  {
   "cell_type": "code",
   "execution_count": 4,
   "metadata": {},
   "outputs": [
    {
     "ename": "AttributeError",
     "evalue": "'Image' object has no attribute 'chromatic_psf'",
     "output_type": "error",
     "traceback": [
      "\u001b[0;31m--------------------------------------------------\u001b[0m",
      "\u001b[0;31mAttributeError\u001b[0m   Traceback (most recent call last)",
      "\u001b[0;32m<ipython-input-4-05aeb98558b0>\u001b[0m in \u001b[0;36m<module>\u001b[0;34m\u001b[0m\n\u001b[1;32m      5\u001b[0m \u001b[0mtemperature\u001b[0m \u001b[0;34m=\u001b[0m \u001b[0mspectrum\u001b[0m\u001b[0;34m.\u001b[0m\u001b[0mheader\u001b[0m\u001b[0;34m[\u001b[0m\u001b[0;34m'OUTTEMP'\u001b[0m\u001b[0;34m]\u001b[0m\u001b[0;34m\u001b[0m\u001b[0;34m\u001b[0m\u001b[0m\n\u001b[1;32m      6\u001b[0m \u001b[0matmosphere\u001b[0m \u001b[0;34m=\u001b[0m \u001b[0mSSS\u001b[0m\u001b[0;34m.\u001b[0m\u001b[0mAtmosphere\u001b[0m\u001b[0;34m(\u001b[0m\u001b[0mairmass\u001b[0m\u001b[0;34m,\u001b[0m \u001b[0mpressure\u001b[0m\u001b[0;34m,\u001b[0m \u001b[0mtemperature\u001b[0m\u001b[0;34m)\u001b[0m\u001b[0;34m\u001b[0m\u001b[0;34m\u001b[0m\u001b[0m\n\u001b[0;32m----> 7\u001b[0;31m \u001b[0mpsf_poly_params\u001b[0m \u001b[0;34m=\u001b[0m \u001b[0mspectrum\u001b[0m\u001b[0;34m.\u001b[0m\u001b[0mchromatic_psf\u001b[0m\u001b[0;34m.\u001b[0m\u001b[0mfrom_table_to_poly_params\u001b[0m\u001b[0;34m(\u001b[0m\u001b[0;34m)\u001b[0m  \u001b[0;31m#\u001b[0m\u001b[0;34m\u001b[0m\u001b[0;34m\u001b[0m\u001b[0m\n\u001b[0m\u001b[1;32m      8\u001b[0m \u001b[0mspec\u001b[0m \u001b[0;34m=\u001b[0m \u001b[0mSSS\u001b[0m\u001b[0;34m.\u001b[0m\u001b[0mSpectrogramModel\u001b[0m\u001b[0;34m(\u001b[0m\u001b[0mspectrum\u001b[0m\u001b[0;34m,\u001b[0m \u001b[0matmosphere\u001b[0m\u001b[0;34m,\u001b[0m \u001b[0mtelescope\u001b[0m\u001b[0;34m,\u001b[0m \u001b[0mdisperser\u001b[0m\u001b[0;34m)\u001b[0m\u001b[0;34m\u001b[0m\u001b[0;34m\u001b[0m\u001b[0m\n\u001b[1;32m      9\u001b[0m \u001b[0mprint\u001b[0m\u001b[0;34m(\u001b[0m\u001b[0mspec\u001b[0m\u001b[0;34m.\u001b[0m\u001b[0mchromatic_psf\u001b[0m\u001b[0;34m.\u001b[0m\u001b[0mtable\u001b[0m\u001b[0;34m)\u001b[0m\u001b[0;34m\u001b[0m\u001b[0;34m\u001b[0m\u001b[0m\n",
      "\u001b[0;31mAttributeError\u001b[0m: 'Image' object has no attribute 'chromatic_psf'"
     ]
    }
   ],
   "source": [
    "        >>> from spectractor.extractor.psf import  ChromaticPSF1D\n",
    "        >>> spectrum, telescope, disperser, target = SSS.SimulatorInit('reduc_20170605_028_spectrum.fits')\n",
    "        >>> airmass = spectrum.header['AIRMASS']\n",
    "        >>> pressure = spectrum.header['OUTPRESS']\n",
    "        >>> temperature = spectrum.header['OUTTEMP']\n",
    "        >>> atmosphere = SSS.Atmosphere(airmass, pressure, temperature)\n",
    "        >>> psf_poly_params = spectrum.chromatic_psf.from_table_to_poly_params()  #\n",
    "        >>> spec = SSS.SpectrogramModel(spectrum, atmosphere, telescope, disperser)\n",
    "        >>> print(spec.chromatic_psf.table)\n",
    "        >>> lambdas, data, err = spec.simulate(psf_poly_params=psf_poly_params, angle=spec.rotation_angle)"
   ]
  },
  {
   "cell_type": "markdown",
   "metadata": {},
   "source": [
    "# Values found in the code"
   ]
  },
  {
   "cell_type": "code",
   "execution_count": null,
   "metadata": {},
   "outputs": [],
   "source": [
    "A1 = 1.0\n",
    "A2 = 0.0\n",
    "pwv =  4.0\n",
    "ozone =  300.0\n",
    "aerosols =  0.15   \n",
    "D = SP.DISTANCE2CCD  # SP is spectractor.parameters\n",
    "shift_x = 0.\n",
    "shift_y = 0.\n",
    "shift_t = 0.\n",
    "angle = 0.\n",
    "r0 = [10,10]            # r0 is [x0,y0], order 0 position, just used a random position\n",
    "\n",
    "psf_poly_params = [0.11298966008548948, -0.396825836448203, 0.2060387678061209, 2.0649268678546955,\n",
    "                   -1.3753936625491252, 0.9242067418613167, 1.6950153822467129, -0.6942452135351901,\n",
    "                   0.3644178350759512, -0.0028059253333737044, -0.003111527339787137, -0.00347648933169673,\n",
    "                   528.3594585697788, 628.4966480821147, 12.438043546369354, 499.99999999999835]"
   ]
  },
  {
   "cell_type": "markdown",
   "metadata": {},
   "source": [
    "### \"pour faire  une simu simplement\""
   ]
  },
  {
   "cell_type": "code",
   "execution_count": null,
   "metadata": {},
   "outputs": [],
   "source": [
    "SFF.simulate_spectrogram(A1, A2, ozone, pwv, aerosols, D, shift_x, shift_y, shift_t, angle, *psf_poly_params)"
   ]
  },
  {
   "cell_type": "markdown",
   "metadata": {},
   "source": [
    "###  \"dispersion_law = vecteur Nlambda x 2 représentant la trace (x,y) des centroides\""
   ]
  },
  {
   "cell_type": "code",
   "execution_count": null,
   "metadata": {
    "scrolled": true
   },
   "outputs": [],
   "source": [
    "from spectractor.extractor.psf import  ChromaticPSF1D         #useless ?\n",
    "spectrum, telescope, disperser, target = SSS.SimulatorInit('reduc_20170605_028_spectrum.fits')\n",
    "airmass = spectrum.header['AIRMASS']\n",
    "pressure = spectrum.header['OUTPRESS']\n",
    "temperature = spectrum.header['OUTTEMP']\n",
    "atmosphere = SSS.Atmosphere(airmass, pressure, temperature)\n",
    "psf_poly_params = spectrum.chromatic_psf.from_table_to_poly_params()\n",
    "spectroum = SSS.SpectrogramModel(spectrum, atmosphere, telescope, disperser)\n",
    "\n",
    "psf_poly_params = spectroum.chromatic_psf.from_table_to_poly_params()"
   ]
  },
  {
   "cell_type": "code",
   "execution_count": null,
   "metadata": {
    "scrolled": false
   },
   "outputs": [],
   "source": [
    "lambdas, data, err = spectroum.simulate(psf_poly_params=psf_poly_params, angle=spectroum.rotation_angle)"
   ]
  },
  {
   "cell_type": "code",
   "execution_count": null,
   "metadata": {
    "scrolled": false
   },
   "outputs": [],
   "source": [
    "lbdas, dispersion_law, _ = spectroum.simulate_dispersion(D, shift_x, shift_y, r0)"
   ]
  },
  {
   "cell_type": "code",
   "execution_count": null,
   "metadata": {},
   "outputs": [],
   "source": [
    "# ax[0, 0].scatter(x, y, cmap=STfrom_lambda_to_colormap(self.lambdas[sub[2:-3]]), edgecolors='None', \n",
    "#                 c=self.lambdas[sub[2:-3]], label='', marker='o', s=10)"
   ]
  },
  {
   "cell_type": "markdown",
   "metadata": {},
   "source": [
    "### \"la forme des courbes représentées par groupe de 3 coefficients\""
   ]
  },
  {
   "cell_type": "code",
   "execution_count": null,
   "metadata": {},
   "outputs": [],
   "source": [
    "psf = SEP.PSF1D(psf_poly_params)\n",
    "print(psf)"
   ]
  },
  {
   "cell_type": "code",
   "execution_count": null,
   "metadata": {},
   "outputs": [],
   "source": [
    "x = np.linspace(-1,1,100)\n",
    "for i in range(5):\n",
    "    print(i,psf_poly_params[3*i:3*i+3])\n",
    "    plt.plot(x, np.polynomial.legendre.legval(x, psf_poly_params[3*i:3*i+3]), label=\"truth \"+psf.param_names[1+i])\n",
    "    plt.legend()\n",
    "    plt.show()"
   ]
  }
 ],
 "metadata": {
  "kernelspec": {
   "display_name": "Python 3",
   "language": "python",
   "name": "python3"
  },
  "language_info": {
   "codemirror_mode": {
    "name": "ipython",
    "version": 3
   },
   "file_extension": ".py",
   "mimetype": "text/x-python",
   "name": "python",
   "nbconvert_exporter": "python",
   "pygments_lexer": "ipython3",
   "version": "3.7.1"
  }
 },
 "nbformat": 4,
 "nbformat_minor": 2
}
